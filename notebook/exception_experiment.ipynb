{
 "cells": [
  {
   "cell_type": "code",
   "execution_count": 16,
   "id": "568aada1",
   "metadata": {},
   "outputs": [
    {
     "name": "stdout",
     "output_type": "stream",
     "text": [
      "hello world\n"
     ]
    }
   ],
   "source": [
    "print('hello world')"
   ]
  },
  {
   "cell_type": "code",
   "execution_count": 17,
   "id": "4eb705c4",
   "metadata": {},
   "outputs": [],
   "source": [
    "import sys\n",
    "import traceback"
   ]
  },
  {
   "cell_type": "code",
   "execution_count": 18,
   "id": "7fdbf58c",
   "metadata": {},
   "outputs": [],
   "source": [
    "from logger.custom_logger import CustomLogger"
   ]
  },
  {
   "cell_type": "code",
   "execution_count": 19,
   "id": "617384de",
   "metadata": {},
   "outputs": [],
   "source": [
    "logger =CustomLogger().get_logger(\"exception_experiment\")\n",
    "# in .py file __file__ automaticayy calkled but not in notebook"
   ]
  },
  {
   "cell_type": "code",
   "execution_count": 26,
   "id": "e351c6d7",
   "metadata": {},
   "outputs": [
    {
     "name": "stdout",
     "output_type": "stream",
     "text": [
      "(<class 'ZeroDivisionError'>, ZeroDivisionError('division by zero'), <traceback object at 0x0000023F4D5CD000>)\n"
     ]
    },
    {
     "ename": "DocumentPortalException",
     "evalue": "\n        Error occurred in file [C:\\Users\\Geeta Sharma\\AppData\\Local\\Temp\\ipykernel_17172\\419602729.py] at line [18]\n        Error message: division by zero\n        Traceback: Traceback (most recent call last):\n  File \"C:\\Users\\Geeta Sharma\\AppData\\Local\\Temp\\ipykernel_17172\\419602729.py\", line 18, in <module>\n    a = 1/0\nZeroDivisionError: division by zero\n\n        ",
     "output_type": "error",
     "traceback": [
      "\u001b[1;31m---------------------------------------------------------------------------\u001b[0m",
      "\u001b[1;31mZeroDivisionError\u001b[0m                         Traceback (most recent call last)",
      "Cell \u001b[1;32mIn[26], line 18\u001b[0m\n\u001b[0;32m     17\u001b[0m \u001b[38;5;28;01mtry\u001b[39;00m:\n\u001b[1;32m---> 18\u001b[0m     a \u001b[38;5;241m=\u001b[39m \u001b[38;5;241;43m1\u001b[39;49m\u001b[38;5;241;43m/\u001b[39;49m\u001b[38;5;241;43m0\u001b[39;49m\n\u001b[0;32m     19\u001b[0m     \u001b[38;5;28mprint\u001b[39m(a)\n",
      "\u001b[1;31mZeroDivisionError\u001b[0m: division by zero",
      "\nDuring handling of the above exception, another exception occurred:\n",
      "\u001b[1;31mDocumentPortalException\u001b[0m                   Traceback (most recent call last)",
      "Cell \u001b[1;32mIn[26], line 23\u001b[0m\n\u001b[0;32m     21\u001b[0m app_exc \u001b[38;5;241m=\u001b[39m DocumentPortalException(e, sys)\n\u001b[0;32m     22\u001b[0m logger\u001b[38;5;241m.\u001b[39merror(app_exc)\n\u001b[1;32m---> 23\u001b[0m \u001b[38;5;28;01mraise\u001b[39;00m app_exc\n",
      "\u001b[1;31mDocumentPortalException\u001b[0m: \n        Error occurred in file [C:\\Users\\Geeta Sharma\\AppData\\Local\\Temp\\ipykernel_17172\\419602729.py] at line [18]\n        Error message: division by zero\n        Traceback: Traceback (most recent call last):\n  File \"C:\\Users\\Geeta Sharma\\AppData\\Local\\Temp\\ipykernel_17172\\419602729.py\", line 18, in <module>\n    a = 1/0\nZeroDivisionError: division by zero\n\n        "
     ]
    }
   ],
   "source": [
    "class DocumentPortalException(Exception):\n",
    "    def __init__(self,error_message=str, error_detail=sys):\n",
    "        print(error_detail.exc_info())\n",
    "        _,_,exb_tb = error_detail.exc_info()\n",
    "        self.file_name = exb_tb.tb_frame.f_code.co_filename\n",
    "        self.line_number = exb_tb.tb_lineno\n",
    "        self.error_message = str(error_message)\n",
    "        self.traceback_str = ''.join(traceback.format_exception(*error_detail.exc_info()))\n",
    "        \n",
    "    def __str__(self):\n",
    "        return f\"\"\"\n",
    "        Error occurred in file [{self.file_name}] at line [{self.line_number}]\n",
    "        Error message: {self.error_message}\n",
    "        Traceback: {self.traceback_str}\n",
    "        \"\"\"\n",
    "if __name__ == \"__main__\":\n",
    "    try:\n",
    "        a = 1/0\n",
    "        print(a)\n",
    "    except Exception as e:\n",
    "        app_exc = DocumentPortalException(e, sys)\n",
    "        logger.error(app_exc)\n",
    "        raise app_exc\n"
   ]
  },
  {
   "cell_type": "code",
   "execution_count": 22,
   "id": "45f0e0ba",
   "metadata": {},
   "outputs": [
    {
     "data": {
      "text/plain": [
       "(None, None, None)"
      ]
     },
     "execution_count": 22,
     "metadata": {},
     "output_type": "execute_result"
    }
   ],
   "source": [
    "import sys\n",
    "sys.exc_info()"
   ]
  },
  {
   "cell_type": "code",
   "execution_count": 23,
   "id": "d74d7b41",
   "metadata": {},
   "outputs": [],
   "source": [
    "a,b,c= (1,2,3)"
   ]
  },
  {
   "cell_type": "code",
   "execution_count": 24,
   "id": "ffd5b7e9",
   "metadata": {},
   "outputs": [
    {
     "data": {
      "text/plain": [
       "1"
      ]
     },
     "execution_count": 24,
     "metadata": {},
     "output_type": "execute_result"
    }
   ],
   "source": [
    "a"
   ]
  },
  {
   "cell_type": "code",
   "execution_count": 25,
   "id": "215b9e20",
   "metadata": {},
   "outputs": [
    {
     "data": {
      "text/plain": [
       "2"
      ]
     },
     "execution_count": 25,
     "metadata": {},
     "output_type": "execute_result"
    }
   ],
   "source": [
    "b"
   ]
  }
 ],
 "metadata": {
  "kernelspec": {
   "display_name": "Python 3",
   "language": "python",
   "name": "python3"
  },
  "language_info": {
   "codemirror_mode": {
    "name": "ipython",
    "version": 3
   },
   "file_extension": ".py",
   "mimetype": "text/x-python",
   "name": "python",
   "nbconvert_exporter": "python",
   "pygments_lexer": "ipython3",
   "version": "3.10.18"
  }
 },
 "nbformat": 4,
 "nbformat_minor": 5
}
