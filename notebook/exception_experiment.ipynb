{
 "cells": [
  {
   "cell_type": "code",
   "execution_count": 1,
   "id": "568aada1",
   "metadata": {},
   "outputs": [
    {
     "name": "stdout",
     "output_type": "stream",
     "text": [
      "hello world\n"
     ]
    }
   ],
   "source": [
    "print('hello world')"
   ]
  },
  {
   "cell_type": "code",
   "execution_count": null,
   "id": "4eb705c4",
   "metadata": {},
   "outputs": [],
   "source": [
    "inport sys\n",
    "import traceback"
   ]
  },
  {
   "cell_type": "code",
   "execution_count": null,
   "id": "e351c6d7",
   "metadata": {},
   "outputs": [],
   "source": [
    "class DocumentPortalException(Exception):\n",
    "    def __init__(self,error_message=str, error_detail=sys):\n",
    "        pass\n",
    "    pass\n",
    "    def __str__(self):\n",
    "        pass\n",
    "if __name__ == \"__main__\":\n",
    "    try:\n",
    "        a = 1/0\n",
    "        print(a)\n",
    "    except Exception as e:\n",
    "        app_exc = DocumentPortalException(e, sys)\n",
    "        raise app_exc\n"
   ]
  }
 ],
 "metadata": {
  "kernelspec": {
   "display_name": "Python 3",
   "language": "python",
   "name": "python3"
  },
  "language_info": {
   "codemirror_mode": {
    "name": "ipython",
    "version": 3
   },
   "file_extension": ".py",
   "mimetype": "text/x-python",
   "name": "python",
   "nbconvert_exporter": "python",
   "pygments_lexer": "ipython3",
   "version": "3.10.18"
  }
 },
 "nbformat": 4,
 "nbformat_minor": 5
}
